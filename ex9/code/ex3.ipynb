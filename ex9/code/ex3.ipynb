{
 "cells": [
  {
   "cell_type": "markdown",
   "metadata": {},
   "source": [
    "# Exercise 9.3"
   ]
  },
  {
   "cell_type": "code",
   "execution_count": 84,
   "metadata": {},
   "outputs": [],
   "source": [
    "import numpy as np\n",
    "from numpy.random import normal\n",
    "from scipy import integrate\n",
    "import matplotlib.pyplot as plt\n",
    "from scipy import stats\n",
    "\n",
    "def stoch_Int(f, n, T):\n",
    "    \"\"\"\n",
    "    - f: function to be integrated\n",
    "    - n: time-steps for integral computation\n",
    "    \"\"\"\n",
    "    sum = 0\n",
    "    dt = T/n\n",
    "\n",
    "    for i in range(0,n):\n",
    "        # Ito integral\n",
    "        sum += f((i*dt+(i+1)*dt)/2)*np.random.normal(0.0, dt)\n",
    "\n",
    "    return sum\n",
    "\n",
    "def MonteCarlo(f, n, T, N, func, v=False):\n",
    "    \"\"\"\n",
    "    - f: function to be integrated\n",
    "    - N: Monte Carlo samples to be drawn\n",
    "    - n: time-steps for integral computation\n",
    "    - v: verbose output\n",
    "    \"\"\"\n",
    "    data = []\n",
    "\n",
    "    for i in range(0,N):\n",
    "        if v and i%(N/10) == 0: print(\"{:.0f} done\".format(100*i/N)) # <--- fix this\n",
    "        data.append(func(f, n, T))\n",
    "\n",
    "    return data\n",
    "\n",
    "def run(n, T, N, v):\n",
    "    \"\"\"\n",
    "    - N: Monte Carlo samples to be drawn\n",
    "    - n: time-steps for integral computation\n",
    "    - v: verbose output\n",
    "    \"\"\"\n",
    "    f1 = lambda x : np.cos(x)\n",
    "    f2 = lambda x : np.exp(x)\n",
    "\n",
    "    data1 = MonteCarlo(f1, n, T, N, stoch_Int, v)    \n",
    "    data2 = MonteCarlo(f2, n, T, N, stoch_Int, v)\n",
    "\n",
    "    return (np.mean(data1), np.var(data1), np.mean(data2), np.var(data2))"
   ]
  },
  {
   "cell_type": "code",
   "execution_count": 87,
   "metadata": {},
   "outputs": [
    {
     "name": "stdout",
     "output_type": "stream",
     "text": [
      "Variance (analytic):\n",
      "g_1(x): 0.8108\n",
      "g_2(x): 26.7991\n",
      "\n",
      "Variance  (numeric):\n",
      "g_1(x): 0.8015\n",
      "g_2(x): 26.5888\n",
      "\n",
      "Mean      (numeric):\n",
      "g_1(x): 0.0155\n",
      "g_2(x): -0.0970\n",
      "\n"
     ]
    }
   ],
   "source": [
    "T = 2       # final time\n",
    "n = 100     # time steps\n",
    "N = 50000   # MC samples\n",
    "\n",
    "# quasi analytical (scipy.integrate)\n",
    "g1_ana = integrate.quad(lambda x: np.cos(x)**2, 0, 2)[0]\n",
    "g2_ana = integrate.quad(lambda x: np.exp(2*x),  0, 2)[0]\n",
    "\n",
    "mean_g1, var_g1, mean_g2, var_g2 = run(n, T, N, False)\n",
    "print(\"Variance (analytic):\\ng_1(x): {:.4f}\\ng_2(x): {:.4f}\\n\".format(g1_ana, g2_ana))\n",
    "print(\"Variance  (numeric):\\ng_1(x): {:.4f}\\ng_2(x): {:.4f}\\n\".format(var_g1*(n/2), var_g2*(n/2)))\n",
    "print(\"Mean      (numeric):\\ng_1(x): {:.4f}\\ng_2(x): {:.4f}\\n\".format(mean_g1*(n/2), mean_g2*(n/2)))"
   ]
  },
  {
   "cell_type": "code",
   "execution_count": 86,
   "metadata": {},
   "outputs": [],
   "source": [
    "# fig = plt.figure(figsize=(6, 3), dpi=200)\n",
    "\n",
    "# ax1 = fig.add_subplot(1, 2, 1)\n",
    "# ax1.set_title(r\"$g_1(x) = cos(x)$\")\n",
    "# ax1.hist(normal(0, g1_ana, N),  bins = 50, label = 'Analytical', density = True)\n",
    "# ax1.hist(np.array(data1)*(n/2), bins = 50, alpha=0.7, label = 'Monte Carlo', density = True)\n",
    "\n",
    "# ax2 = fig.add_subplot(1, 2, 2)\n",
    "# ax2.set_title(r\"$g_2(x) = exp(x)$\")\n",
    "# ax2.hist(normal(0, g2_ana, N),  bins = 50, label = 'Analytical', density = True)\n",
    "# ax2.hist(np.array(data2)*(n/2), bins = 50, alpha=0.7, label = 'Monte Carlo', density = True)\n",
    "\n",
    "# plt.legend()\n",
    "# plt.show()"
   ]
  }
 ],
 "metadata": {
  "kernelspec": {
   "display_name": "Python 3.8.13 ('base')",
   "language": "python",
   "name": "python3"
  },
  "language_info": {
   "codemirror_mode": {
    "name": "ipython",
    "version": 3
   },
   "file_extension": ".py",
   "mimetype": "text/x-python",
   "name": "python",
   "nbconvert_exporter": "python",
   "pygments_lexer": "ipython3",
   "version": "3.8.13"
  },
  "orig_nbformat": 4,
  "vscode": {
   "interpreter": {
    "hash": "3602e84eb735e5c77951d18c9b40c85387669cd19c68adef517a96534a07c488"
   }
  }
 },
 "nbformat": 4,
 "nbformat_minor": 2
}
